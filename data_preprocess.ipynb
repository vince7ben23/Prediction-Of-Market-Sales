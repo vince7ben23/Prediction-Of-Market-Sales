{
 "cells": [
  {
   "cell_type": "markdown",
   "metadata": {},
   "source": [
    "<h1>Data Preprocess</h1>"
   ]
  },
  {
   "cell_type": "markdown",
   "metadata": {},
   "source": [
    "Import the libraries that we will use in this script."
   ]
  },
  {
   "cell_type": "code",
   "execution_count": 1,
   "metadata": {},
   "outputs": [],
   "source": [
    "import pandas as pd\n",
    "import numpy as np\n",
    "import matplotlib\n",
    "import matplotlib.pyplot as plt\n",
    "import seaborn\n",
    "%matplotlib inline"
   ]
  },
  {
   "cell_type": "markdown",
   "metadata": {},
   "source": [
    "Read in train and test data set."
   ]
  },
  {
   "cell_type": "code",
   "execution_count": 2,
   "metadata": {},
   "outputs": [],
   "source": [
    "train = pd.read_excel('C:/Users/BenBen Chen/Python Practice/Project_Big market predict/train.xlsx')\n",
    "test = pd.read_excel('C:/Users/BenBen Chen/Python Practice/Project_Big market predict/test.xlsx')"
   ]
  },
  {
   "cell_type": "code",
   "execution_count": 3,
   "metadata": {},
   "outputs": [],
   "source": [
    "#concatenate the train data and test data, and add 'source' column as tag to differentiate two source  \n",
    "train['source'] = 'train'\n",
    "test['source'] = 'test'\n",
    "concat_data = pd.concat([train, test], ignore_index=True, sort=True)"
   ]
  },
  {
   "cell_type": "code",
   "execution_count": 4,
   "metadata": {
    "scrolled": true
   },
   "outputs": [
    {
     "data": {
      "text/html": [
       "<div>\n",
       "<style scoped>\n",
       "    .dataframe tbody tr th:only-of-type {\n",
       "        vertical-align: middle;\n",
       "    }\n",
       "\n",
       "    .dataframe tbody tr th {\n",
       "        vertical-align: top;\n",
       "    }\n",
       "\n",
       "    .dataframe thead th {\n",
       "        text-align: right;\n",
       "    }\n",
       "</style>\n",
       "<table border=\"1\" class=\"dataframe\">\n",
       "  <thead>\n",
       "    <tr style=\"text-align: right;\">\n",
       "      <th></th>\n",
       "      <th>Item_Fat_Content</th>\n",
       "      <th>Item_Identifier</th>\n",
       "      <th>Item_MRP</th>\n",
       "      <th>Item_Outlet_Sales</th>\n",
       "      <th>Item_Type</th>\n",
       "      <th>Item_Visibility</th>\n",
       "      <th>Item_Weight</th>\n",
       "      <th>Outlet_Establishment_Year</th>\n",
       "      <th>Outlet_Identifier</th>\n",
       "      <th>Outlet_Location_Type</th>\n",
       "      <th>Outlet_Size</th>\n",
       "      <th>Outlet_Type</th>\n",
       "      <th>source</th>\n",
       "    </tr>\n",
       "  </thead>\n",
       "  <tbody>\n",
       "    <tr>\n",
       "      <th>0</th>\n",
       "      <td>Low Fat</td>\n",
       "      <td>FDA15</td>\n",
       "      <td>249.8092</td>\n",
       "      <td>3735.1380</td>\n",
       "      <td>Dairy</td>\n",
       "      <td>0.016047</td>\n",
       "      <td>9.30</td>\n",
       "      <td>1999</td>\n",
       "      <td>OUT049</td>\n",
       "      <td>Tier 1</td>\n",
       "      <td>Medium</td>\n",
       "      <td>Supermarket Type1</td>\n",
       "      <td>train</td>\n",
       "    </tr>\n",
       "    <tr>\n",
       "      <th>1</th>\n",
       "      <td>Regular</td>\n",
       "      <td>DRC01</td>\n",
       "      <td>48.2692</td>\n",
       "      <td>443.4228</td>\n",
       "      <td>Soft Drinks</td>\n",
       "      <td>0.019278</td>\n",
       "      <td>5.92</td>\n",
       "      <td>2009</td>\n",
       "      <td>OUT018</td>\n",
       "      <td>Tier 3</td>\n",
       "      <td>Medium</td>\n",
       "      <td>Supermarket Type2</td>\n",
       "      <td>train</td>\n",
       "    </tr>\n",
       "    <tr>\n",
       "      <th>2</th>\n",
       "      <td>Low Fat</td>\n",
       "      <td>FDN15</td>\n",
       "      <td>141.6180</td>\n",
       "      <td>2097.2700</td>\n",
       "      <td>Meat</td>\n",
       "      <td>0.016760</td>\n",
       "      <td>17.50</td>\n",
       "      <td>1999</td>\n",
       "      <td>OUT049</td>\n",
       "      <td>Tier 1</td>\n",
       "      <td>Medium</td>\n",
       "      <td>Supermarket Type1</td>\n",
       "      <td>train</td>\n",
       "    </tr>\n",
       "    <tr>\n",
       "      <th>3</th>\n",
       "      <td>Regular</td>\n",
       "      <td>FDX07</td>\n",
       "      <td>182.0950</td>\n",
       "      <td>732.3800</td>\n",
       "      <td>Fruits and Vegetables</td>\n",
       "      <td>0.000000</td>\n",
       "      <td>19.20</td>\n",
       "      <td>1998</td>\n",
       "      <td>OUT010</td>\n",
       "      <td>Tier 3</td>\n",
       "      <td>NaN</td>\n",
       "      <td>Grocery Store</td>\n",
       "      <td>train</td>\n",
       "    </tr>\n",
       "    <tr>\n",
       "      <th>4</th>\n",
       "      <td>Low Fat</td>\n",
       "      <td>NCD19</td>\n",
       "      <td>53.8614</td>\n",
       "      <td>994.7052</td>\n",
       "      <td>Household</td>\n",
       "      <td>0.000000</td>\n",
       "      <td>8.93</td>\n",
       "      <td>1987</td>\n",
       "      <td>OUT013</td>\n",
       "      <td>Tier 3</td>\n",
       "      <td>High</td>\n",
       "      <td>Supermarket Type1</td>\n",
       "      <td>train</td>\n",
       "    </tr>\n",
       "  </tbody>\n",
       "</table>\n",
       "</div>"
      ],
      "text/plain": [
       "  Item_Fat_Content Item_Identifier  Item_MRP  Item_Outlet_Sales  \\\n",
       "0          Low Fat           FDA15  249.8092          3735.1380   \n",
       "1          Regular           DRC01   48.2692           443.4228   \n",
       "2          Low Fat           FDN15  141.6180          2097.2700   \n",
       "3          Regular           FDX07  182.0950           732.3800   \n",
       "4          Low Fat           NCD19   53.8614           994.7052   \n",
       "\n",
       "               Item_Type  Item_Visibility  Item_Weight  \\\n",
       "0                  Dairy         0.016047         9.30   \n",
       "1            Soft Drinks         0.019278         5.92   \n",
       "2                   Meat         0.016760        17.50   \n",
       "3  Fruits and Vegetables         0.000000        19.20   \n",
       "4              Household         0.000000         8.93   \n",
       "\n",
       "   Outlet_Establishment_Year Outlet_Identifier Outlet_Location_Type  \\\n",
       "0                       1999            OUT049               Tier 1   \n",
       "1                       2009            OUT018               Tier 3   \n",
       "2                       1999            OUT049               Tier 1   \n",
       "3                       1998            OUT010               Tier 3   \n",
       "4                       1987            OUT013               Tier 3   \n",
       "\n",
       "  Outlet_Size        Outlet_Type source  \n",
       "0      Medium  Supermarket Type1  train  \n",
       "1      Medium  Supermarket Type2  train  \n",
       "2      Medium  Supermarket Type1  train  \n",
       "3         NaN      Grocery Store  train  \n",
       "4        High  Supermarket Type1  train  "
      ]
     },
     "execution_count": 4,
     "metadata": {},
     "output_type": "execute_result"
    }
   ],
   "source": [
    "concat_data.head()"
   ]
  },
  {
   "cell_type": "markdown",
   "metadata": {},
   "source": [
    "<h2>Data Exploration</h2>"
   ]
  },
  {
   "cell_type": "markdown",
   "metadata": {},
   "source": [
    "First, we take a look if there are any missing value in each column, also the unique value of each column."
   ]
  },
  {
   "cell_type": "code",
   "execution_count": 5,
   "metadata": {},
   "outputs": [
    {
     "name": "stdout",
     "output_type": "stream",
     "text": [
      "Missing value in each column:\n",
      " Item_Fat_Content                0\n",
      "Item_Identifier                 0\n",
      "Item_MRP                        0\n",
      "Item_Outlet_Sales            5681\n",
      "Item_Type                       0\n",
      "Item_Visibility                 0\n",
      "Item_Weight                  2439\n",
      "Outlet_Establishment_Year       0\n",
      "Outlet_Identifier               0\n",
      "Outlet_Location_Type            0\n",
      "Outlet_Size                  4016\n",
      "Outlet_Type                     0\n",
      "source                          0\n",
      "dtype: int64 \n",
      "\n",
      "\n",
      "Unique value in each column:\n",
      " Item_Fat_Content                 5\n",
      "Item_Identifier               1559\n",
      "Item_MRP                      8052\n",
      "Item_Outlet_Sales             3494\n",
      "Item_Type                       16\n",
      "Item_Visibility              13006\n",
      "Item_Weight                    416\n",
      "Outlet_Establishment_Year        9\n",
      "Outlet_Identifier               10\n",
      "Outlet_Location_Type             3\n",
      "Outlet_Size                      4\n",
      "Outlet_Type                      4\n",
      "source                           2\n",
      "dtype: int64 \n",
      "\n",
      "\n"
     ]
    }
   ],
   "source": [
    "#check missing value and unique value of each column\n",
    "print('Missing value in each column:\\n', concat_data.apply\n",
    "      (lambda x: sum(x.isnull()), axis=0), '\\n\\n')\n",
    "print('Unique value in each column:\\n', concat_data.apply\n",
    "      (lambda x: len(x.unique()), axis=0), '\\n\\n')"
   ]
  },
  {
   "cell_type": "markdown",
   "metadata": {},
   "source": [
    "At this point, we can find three columns have missing value, we leave Item_Outlet_Sales as it, because these missing value come from test data set, but Item_Weight and Outlet_Size we need to do some improvement later.\n",
    "Also take look at the unique value in each column, we will know there are 1559 products and 10 outlets in this data set, and our goal is predicting the sales for any combination of them."
   ]
  },
  {
   "cell_type": "markdown",
   "metadata": {},
   "source": [
    "Now we explore the content of categorical columns. "
   ]
  },
  {
   "cell_type": "code",
   "execution_count": 6,
   "metadata": {},
   "outputs": [
    {
     "name": "stdout",
     "output_type": "stream",
     "text": [
      "Frequency of categories Item_Fat_Content\n",
      "Low Fat    8485\n",
      "Regular    4824\n",
      "LF          522\n",
      "reg         195\n",
      "low fat     178\n",
      "Name: Item_Fat_Content, dtype: int64 \n",
      "\n",
      "\n",
      "Frequency of categories Item_Type\n",
      "Fruits and Vegetables    2013\n",
      "Snack Foods              1989\n",
      "Household                1548\n",
      "Frozen Foods             1426\n",
      "Dairy                    1136\n",
      "Baking Goods             1086\n",
      "Canned                   1084\n",
      "Health and Hygiene        858\n",
      "Meat                      736\n",
      "Soft Drinks               726\n",
      "Breads                    416\n",
      "Hard Drinks               362\n",
      "Others                    280\n",
      "Starchy Foods             269\n",
      "Breakfast                 186\n",
      "Seafood                    89\n",
      "Name: Item_Type, dtype: int64 \n",
      "\n",
      "\n",
      "Frequency of categories Outlet_Location_Type\n",
      "Tier 3    5583\n",
      "Tier 2    4641\n",
      "Tier 1    3980\n",
      "Name: Outlet_Location_Type, dtype: int64 \n",
      "\n",
      "\n",
      "Frequency of categories Outlet_Size\n",
      "Medium    4655\n",
      "Small     3980\n",
      "High      1553\n",
      "Name: Outlet_Size, dtype: int64 \n",
      "\n",
      "\n",
      "Frequency of categories Outlet_Type\n",
      "Supermarket Type1    9294\n",
      "Grocery Store        1805\n",
      "Supermarket Type3    1559\n",
      "Supermarket Type2    1546\n",
      "Name: Outlet_Type, dtype: int64 \n",
      "\n",
      "\n"
     ]
    }
   ],
   "source": [
    "categorical_col = [x for x in concat_data.columns if concat_data.dtypes[x] == 'object'\n",
    "                 and x not in ['Item_Identifier','Outlet_Identifier','source']]\n",
    "\n",
    "for col in categorical_col:\n",
    "    print('Frequency of categories %s'%col)\n",
    "    print(concat_data[col].value_counts(), '\\n\\n')"
   ]
  },
  {
   "cell_type": "markdown",
   "metadata": {},
   "source": [
    "Item_Fat_Content has 5 categories, and we can see 'Low Fat', 'LF', 'low fat' are duplicated, 'Regular' and 'reg' are also duplicated, we will deal with the problem later."
   ]
  },
  {
   "cell_type": "markdown",
   "metadata": {},
   "source": [
    "Now, we observe relationship between Item_Outlet_Sales and each categorical variable with box-chart. "
   ]
  },
  {
   "cell_type": "code",
   "execution_count": 7,
   "metadata": {},
   "outputs": [
    {
     "data": {
      "image/png": "[encoded data removed]",
      "text/plain": [
       "<Figure size 432x288 with 1 Axes>"
      ]
     },
     "metadata": {
      "needs_background": "light"
     },
     "output_type": "display_data"
    },
    {
     "data": {
      "image/png": "[encoded data removed]",
      "text/plain": [
       "<Figure size 432x288 with 1 Axes>"
      ]
     },
     "metadata": {
      "needs_background": "light"
     },
     "output_type": "display_data"
    },
    {
     "data": {
      "image/png": "[encoded data removed]",
      "text/plain": [
       "<Figure size 432x288 with 1 Axes>"
      ]
     },
     "metadata": {
      "needs_background": "light"
     },
     "output_type": "display_data"
    },
    {
     "data": {
      "image/png": "[encoded data removed]",
      "text/plain": [
       "<Figure size 432x288 with 1 Axes>"
      ]
     },
     "metadata": {
      "needs_background": "light"
     },
     "output_type": "display_data"
    },
    {
     "data": {
      "image/png": "[encoded data removed]",
      "text/plain": [
       "<Figure size 432x288 with 1 Axes>"
      ]
     },
     "metadata": {
      "needs_background": "light"
     },
     "output_type": "display_data"
    }
   ],
   "source": [
    "for col in categorical_col:\n",
    "    seaborn.boxplot(x='Item_Outlet_Sales', y=col, data=train)\n",
    "    plt.show()"
   ]
  },
  {
   "cell_type": "markdown",
   "metadata": {},
   "source": [
    "According to these box plot above, we can find out that Outlet_Type and Outlet_Size may have some influences to our target varible Item_Outlet_Sales due to significant difference between categories. Item_Type has too many categories, seems not have much effects on our target variable, we will simplify categories in this feature.   "
   ]
  },
  {
   "cell_type": "markdown",
   "metadata": {},
   "source": [
    "Now we explore the columns contiain numeric values. "
   ]
  },
  {
   "cell_type": "code",
   "execution_count": 8,
   "metadata": {},
   "outputs": [
    {
     "data": {
      "text/html": [
       "<div>\n",
       "<style scoped>\n",
       "    .dataframe tbody tr th:only-of-type {\n",
       "        vertical-align: middle;\n",
       "    }\n",
       "\n",
       "    .dataframe tbody tr th {\n",
       "        vertical-align: top;\n",
       "    }\n",
       "\n",
       "    .dataframe thead th {\n",
       "        text-align: right;\n",
       "    }\n",
       "</style>\n",
       "<table border=\"1\" class=\"dataframe\">\n",
       "  <thead>\n",
       "    <tr style=\"text-align: right;\">\n",
       "      <th></th>\n",
       "      <th>Item_MRP</th>\n",
       "      <th>Item_Outlet_Sales</th>\n",
       "      <th>Item_Visibility</th>\n",
       "      <th>Item_Weight</th>\n",
       "      <th>Outlet_Establishment_Year</th>\n",
       "    </tr>\n",
       "  </thead>\n",
       "  <tbody>\n",
       "    <tr>\n",
       "      <th>count</th>\n",
       "      <td>8523.000000</td>\n",
       "      <td>8523.000000</td>\n",
       "      <td>8523.000000</td>\n",
       "      <td>7060.000000</td>\n",
       "      <td>8523.000000</td>\n",
       "    </tr>\n",
       "    <tr>\n",
       "      <th>mean</th>\n",
       "      <td>140.992782</td>\n",
       "      <td>2181.288914</td>\n",
       "      <td>0.066132</td>\n",
       "      <td>12.857645</td>\n",
       "      <td>1997.831867</td>\n",
       "    </tr>\n",
       "    <tr>\n",
       "      <th>std</th>\n",
       "      <td>62.275067</td>\n",
       "      <td>1706.499616</td>\n",
       "      <td>0.051598</td>\n",
       "      <td>4.643456</td>\n",
       "      <td>8.371760</td>\n",
       "    </tr>\n",
       "    <tr>\n",
       "      <th>min</th>\n",
       "      <td>31.290000</td>\n",
       "      <td>33.290000</td>\n",
       "      <td>0.000000</td>\n",
       "      <td>4.555000</td>\n",
       "      <td>1985.000000</td>\n",
       "    </tr>\n",
       "    <tr>\n",
       "      <th>25%</th>\n",
       "      <td>93.826500</td>\n",
       "      <td>834.247400</td>\n",
       "      <td>0.026989</td>\n",
       "      <td>8.773750</td>\n",
       "      <td>1987.000000</td>\n",
       "    </tr>\n",
       "    <tr>\n",
       "      <th>50%</th>\n",
       "      <td>143.012800</td>\n",
       "      <td>1794.331000</td>\n",
       "      <td>0.053931</td>\n",
       "      <td>12.600000</td>\n",
       "      <td>1999.000000</td>\n",
       "    </tr>\n",
       "    <tr>\n",
       "      <th>75%</th>\n",
       "      <td>185.643700</td>\n",
       "      <td>3101.296400</td>\n",
       "      <td>0.094585</td>\n",
       "      <td>16.850000</td>\n",
       "      <td>2004.000000</td>\n",
       "    </tr>\n",
       "    <tr>\n",
       "      <th>max</th>\n",
       "      <td>266.888400</td>\n",
       "      <td>13086.964800</td>\n",
       "      <td>0.328391</td>\n",
       "      <td>21.350000</td>\n",
       "      <td>2009.000000</td>\n",
       "    </tr>\n",
       "  </tbody>\n",
       "</table>\n",
       "</div>"
      ],
      "text/plain": [
       "          Item_MRP  Item_Outlet_Sales  Item_Visibility  Item_Weight  \\\n",
       "count  8523.000000        8523.000000      8523.000000  7060.000000   \n",
       "mean    140.992782        2181.288914         0.066132    12.857645   \n",
       "std      62.275067        1706.499616         0.051598     4.643456   \n",
       "min      31.290000          33.290000         0.000000     4.555000   \n",
       "25%      93.826500         834.247400         0.026989     8.773750   \n",
       "50%     143.012800        1794.331000         0.053931    12.600000   \n",
       "75%     185.643700        3101.296400         0.094585    16.850000   \n",
       "max     266.888400       13086.964800         0.328391    21.350000   \n",
       "\n",
       "       Outlet_Establishment_Year  \n",
       "count                8523.000000  \n",
       "mean                 1997.831867  \n",
       "std                     8.371760  \n",
       "min                  1985.000000  \n",
       "25%                  1987.000000  \n",
       "50%                  1999.000000  \n",
       "75%                  2004.000000  \n",
       "max                  2009.000000  "
      ]
     },
     "execution_count": 8,
     "metadata": {},
     "output_type": "execute_result"
    }
   ],
   "source": [
    "numeric_col = [x for x in concat_data.columns if concat_data.dtypes[x] != 'object'\n",
    "                 and x not in ['Item_Identifier','Outlet_Identifier','source']]\n",
    "df_numeric_col = train[numeric_col].copy()\n",
    "df_numeric_col.describe()"
   ]
  },
  {
   "cell_type": "markdown",
   "metadata": {},
   "source": [
    "We can find Item_Visibility has minimum value is 0.00, it doesn't make sense, we will do some improvement later.\n",
    "Furthermore, we can observe the correlation of Item_Outlet_Sales and other variables"
   ]
  },
  {
   "cell_type": "code",
   "execution_count": 9,
   "metadata": {},
   "outputs": [
    {
     "data": {
      "text/html": [
       "<div>\n",
       "<style scoped>\n",
       "    .dataframe tbody tr th:only-of-type {\n",
       "        vertical-align: middle;\n",
       "    }\n",
       "\n",
       "    .dataframe tbody tr th {\n",
       "        vertical-align: top;\n",
       "    }\n",
       "\n",
       "    .dataframe thead th {\n",
       "        text-align: right;\n",
       "    }\n",
       "</style>\n",
       "<table border=\"1\" class=\"dataframe\">\n",
       "  <thead>\n",
       "    <tr style=\"text-align: right;\">\n",
       "      <th></th>\n",
       "      <th>Item_MRP</th>\n",
       "      <th>Item_Outlet_Sales</th>\n",
       "      <th>Item_Visibility</th>\n",
       "      <th>Item_Weight</th>\n",
       "      <th>Outlet_Establishment_Year</th>\n",
       "    </tr>\n",
       "  </thead>\n",
       "  <tbody>\n",
       "    <tr>\n",
       "      <th>Item_MRP</th>\n",
       "      <td>1.000000</td>\n",
       "      <td>0.567574</td>\n",
       "      <td>-0.001315</td>\n",
       "      <td>0.027141</td>\n",
       "      <td>0.005020</td>\n",
       "    </tr>\n",
       "    <tr>\n",
       "      <th>Item_Outlet_Sales</th>\n",
       "      <td>0.567574</td>\n",
       "      <td>1.000000</td>\n",
       "      <td>-0.128625</td>\n",
       "      <td>0.014123</td>\n",
       "      <td>-0.049135</td>\n",
       "    </tr>\n",
       "    <tr>\n",
       "      <th>Item_Visibility</th>\n",
       "      <td>-0.001315</td>\n",
       "      <td>-0.128625</td>\n",
       "      <td>1.000000</td>\n",
       "      <td>-0.014048</td>\n",
       "      <td>-0.074834</td>\n",
       "    </tr>\n",
       "    <tr>\n",
       "      <th>Item_Weight</th>\n",
       "      <td>0.027141</td>\n",
       "      <td>0.014123</td>\n",
       "      <td>-0.014048</td>\n",
       "      <td>1.000000</td>\n",
       "      <td>-0.011588</td>\n",
       "    </tr>\n",
       "    <tr>\n",
       "      <th>Outlet_Establishment_Year</th>\n",
       "      <td>0.005020</td>\n",
       "      <td>-0.049135</td>\n",
       "      <td>-0.074834</td>\n",
       "      <td>-0.011588</td>\n",
       "      <td>1.000000</td>\n",
       "    </tr>\n",
       "  </tbody>\n",
       "</table>\n",
       "</div>"
      ],
      "text/plain": [
       "                           Item_MRP  Item_Outlet_Sales  Item_Visibility  \\\n",
       "Item_MRP                   1.000000           0.567574        -0.001315   \n",
       "Item_Outlet_Sales          0.567574           1.000000        -0.128625   \n",
       "Item_Visibility           -0.001315          -0.128625         1.000000   \n",
       "Item_Weight                0.027141           0.014123        -0.014048   \n",
       "Outlet_Establishment_Year  0.005020          -0.049135        -0.074834   \n",
       "\n",
       "                           Item_Weight  Outlet_Establishment_Year  \n",
       "Item_MRP                      0.027141                   0.005020  \n",
       "Item_Outlet_Sales             0.014123                  -0.049135  \n",
       "Item_Visibility              -0.014048                  -0.074834  \n",
       "Item_Weight                   1.000000                  -0.011588  \n",
       "Outlet_Establishment_Year    -0.011588                   1.000000  "
      ]
     },
     "execution_count": 9,
     "metadata": {},
     "output_type": "execute_result"
    }
   ],
   "source": [
    "df_numeric_col.corr()"
   ]
  },
  {
   "cell_type": "markdown",
   "metadata": {},
   "source": [
    "At this point, we can find Item_Outlet_Sales has a positive linear relationship with Item_MRP, let's plot a scatter for visualization."
   ]
  },
  {
   "cell_type": "code",
   "execution_count": 10,
   "metadata": {},
   "outputs": [
    {
     "data": {
      "text/plain": [
       "<matplotlib.axes._subplots.AxesSubplot at 0x1b6d0e30>"
      ]
     },
     "execution_count": 10,
     "metadata": {},
     "output_type": "execute_result"
    },
    {
     "data": {
      "image/png": "[encoded data removed]",
      "text/plain": [
       "<Figure size 1080x720 with 1 Axes>"
      ]
     },
     "metadata": {
      "needs_background": "light"
     },
     "output_type": "display_data"
    }
   ],
   "source": [
    "df_numeric_col[['Item_Outlet_Sales', 'Item_MRP']].plot(kind='scatter', x='Item_MRP', y='Item_Outlet_Sales',figsize=(15,10))"
   ]
  },
  {
   "cell_type": "code",
   "execution_count": 11,
   "metadata": {},
   "outputs": [
    {
     "data": {
      "image/png": "[encoded data removed]",
      "text/plain": [
       "<Figure size 432x288 with 1 Axes>"
      ]
     },
     "metadata": {
      "needs_background": "light"
     },
     "output_type": "display_data"
    },
    {
     "name": "stdout",
     "output_type": "stream",
     "text": [
      "IQR of Item_Outlet_Sales:  2267.049 \n",
      "\n",
      "\n",
      "Outlier of Item_Outlet_Sales: \n",
      " False    8337\n",
      "True      186\n",
      "Name: Item_Outlet_Sales, dtype: int64 \n",
      "\n",
      "\n",
      "Percent of Item_Outlet_Sales outlier:  2.1823301654347063\n"
     ]
    }
   ],
   "source": [
    "seaborn.boxplot(x='Item_Outlet_Sales', data=train)\n",
    "plt.show()\n",
    "train.shape[0]\n",
    "Q1 = train['Item_Outlet_Sales'].quantile(0.25)\n",
    "Q3 = train['Item_Outlet_Sales'].quantile(0.75)\n",
    "IQR = Q3 - Q1\n",
    "outlier_of_target_var = (train['Item_Outlet_Sales'] < (Q1 - 1.5 * IQR)) | (train['Item_Outlet_Sales'] > (Q3 + 1.5 * IQR))\n",
    "print('IQR of Item_Outlet_Sales: ', IQR, '\\n\\n')\n",
    "print(\"Outlier of Item_Outlet_Sales: \\n\", outlier_of_target_var.value_counts(), '\\n\\n')\n",
    "\n",
    "percent_outlier = 100 * sum(outlier_of_target_var==True) / train.shape[0]\n",
    "print('Percent of Item_Outlet_Sales outlier: ', percent_outlier)"
   ]
  },
  {
   "cell_type": "markdown",
   "metadata": {},
   "source": [
    "We know outlier will impact machine learning modeling, special in linear regression, let's take a look at outlier of our target variable, above the code, we found there are 186 outliers in target variable, Item_Outlet_Sales. It's 2.18% amount of train data, we may consider to do some action to improve it, I leave this at the section of model evaluating. "
   ]
  },
  {
   "cell_type": "markdown",
   "metadata": {},
   "source": [
    "At the end of Data Exploration, here is our mini conclusion:\n",
    "1. Categorical feature Outlet_Type and Outlet_Size have some influences to our target varible Item_Outlet_Sales.\n",
    "2. Numeric feature Maximum retail price is a important factor to pridict sales, higher MRP, bigger chance to have higher sales. \n",
    "3. We found several problems, however we will fix them in later section of data cleaning and fearture engineering."
   ]
  },
  {
   "cell_type": "code",
   "execution_count": 12,
   "metadata": {},
   "outputs": [
    {
     "data": {
      "text/plain": [
       "\"train['Item_MRP'].unique()\\ntrain.loc[train['Item_Identifier']=='FDG33', 'Outlet_Identifier']\\ntrain.loc[train['Item_Identifier']=='FDG33', 'Item_MRP'].mean()\\nmean_Item_MRP_gb_Item_ID = pd.pivot_table(index='Item_Identifier', values='Item_MRP', aggfunc='mean', data=train)\\nmean_Item_MRP_gb_Item_ID\\ntrain['mean_Item_MRP_by_Item_ID'] = train.apply(lambda x: x['Item_MRP']/mean_Item_MRP_gb_Item_ID.loc[x['Item_Identifier'], 'Item_MRP'], axis=1)\\ntrain['mean_Item_MRP_by_Item_ID']\\ntrain.plot(kind='scatter', x = 'mean_Item_MRP_by_Item_ID', y='Item_Outlet_Sales', figsize=(15,8))\\n\""
      ]
     },
     "execution_count": 12,
     "metadata": {},
     "output_type": "execute_result"
    }
   ],
   "source": [
    "'''train['Item_MRP'].unique()\n",
    "train.loc[train['Item_Identifier']=='FDG33', 'Outlet_Identifier']\n",
    "train.loc[train['Item_Identifier']=='FDG33', 'Item_MRP'].mean()\n",
    "mean_Item_MRP_gb_Item_ID = pd.pivot_table(index='Item_Identifier', values='Item_MRP', aggfunc='mean', data=train)\n",
    "mean_Item_MRP_gb_Item_ID\n",
    "train['mean_Item_MRP_by_Item_ID'] = train.apply\\\n",
    "(lambda x: x['Item_MRP']/mean_Item_MRP_gb_Item_ID.loc[x['Item_Identifier'], 'Item_MRP'], axis=1)\n",
    "train['mean_Item_MRP_by_Item_ID']\n",
    "train.plot(kind='scatter', x = 'mean_Item_MRP_by_Item_ID', y='Item_Outlet_Sales', figsize=(15,8))\n",
    "'''"
   ]
  },
  {
   "cell_type": "markdown",
   "metadata": {},
   "source": [
    "<h2>Data Cleaning</h2>"
   ]
  },
  {
   "cell_type": "markdown",
   "metadata": {},
   "source": [
    "We take care about the problems that we found from data exploration, here are the problems relate to data cleaning\n",
    "1. missing value in the column Item_Weight.\n",
    "2. missing value in the column Outlet_Size."
   ]
  },
  {
   "cell_type": "markdown",
   "metadata": {},
   "source": [
    "Deal with Item_Weight, use the average weight grouped by Item_Identifier\n",
    "to impute null value of Item_Weight"
   ]
  },
  {
   "cell_type": "code",
   "execution_count": 13,
   "metadata": {},
   "outputs": [
    {
     "name": "stdout",
     "output_type": "stream",
     "text": [
      "Missing value in Item_Weight:  0 \n",
      "\n",
      "\n"
     ]
    }
   ],
   "source": [
    "#get miss value in Item_Weight\n",
    "missing_weight = concat_data['Item_Weight'].isnull()\n",
    "avg_item_weight = concat_data.pivot_table\\\n",
    "                  (index='Item_Identifier', values='Item_Weight')\n",
    "\n",
    "concat_data.loc[missing_weight, 'Item_Weight'] = \\\n",
    "            concat_data.loc[missing_weight, 'Item_Identifier'].apply\\\n",
    "            (lambda x: avg_item_weight.loc[x, 'Item_Weight'])\n",
    "\n",
    "print('Missing value in Item_Weight: ',\\\n",
    "      sum(concat_data['Item_Weight'].isnull()), \\\n",
    "      '\\n\\n')"
   ]
  },
  {
   "cell_type": "markdown",
   "metadata": {},
   "source": [
    "Deal with Outlet_Size, use mode number of Outlet_Size grouped by Outlet_Type to impute null value of Outlet_size"
   ]
  },
  {
   "cell_type": "code",
   "execution_count": 14,
   "metadata": {},
   "outputs": [
    {
     "name": "stdout",
     "output_type": "stream",
     "text": [
      "Missing value in Outlet_Size:  0 \n",
      "\n",
      "\n",
      "Missing value in each column:\n",
      " Item_Fat_Content                0\n",
      "Item_Identifier                 0\n",
      "Item_MRP                        0\n",
      "Item_Outlet_Sales            5681\n",
      "Item_Type                       0\n",
      "Item_Visibility                 0\n",
      "Item_Weight                     0\n",
      "Outlet_Establishment_Year       0\n",
      "Outlet_Identifier               0\n",
      "Outlet_Location_Type            0\n",
      "Outlet_Size                     0\n",
      "Outlet_Type                     0\n",
      "source                          0\n",
      "dtype: int64 \n",
      "\n",
      "\n"
     ]
    }
   ],
   "source": [
    "#Import mode function:\n",
    "from scipy.stats import mode\n",
    "\n",
    "#get miss value in Outlet_Size\n",
    "missing_outlet_size = concat_data['Outlet_Size'].isnull()\n",
    "\n",
    "mode_outlet_size = concat_data.pivot_table\\\n",
    "        (index='Outlet_Type', values='Outlet_Size', aggfunc=(lambda x:mode(x).mode[0]))\n",
    "\n",
    "\n",
    "concat_data.loc[missing_outlet_size, 'Outlet_Size'] = \\\n",
    "        concat_data.loc[missing_outlet_size, 'Outlet_Type'].apply\\\n",
    "        (lambda x: mode_outlet_size.loc[x, 'Outlet_Size'])\n",
    "\n",
    "print('Missing value in Outlet_Size: ',\\\n",
    "      sum(concat_data['Outlet_Size'].isnull()), '\\n\\n')\n",
    "print('Missing value in each column:\\n', concat_data.apply\n",
    "      (lambda x: sum(x.isnull()), axis=0), '\\n\\n')"
   ]
  },
  {
   "cell_type": "markdown",
   "metadata": {},
   "source": [
    "<h2>Data Engineering</h2>"
   ]
  },
  {
   "cell_type": "markdown",
   "metadata": {},
   "source": [
    "We will solve the couple problems that we discovered from data exploration, here is the to-do list\n",
    "1. Modify invalid zeros value in column Item_Visibility.\n",
    "2. Combine the unnecessary categories of column Item_Type_Combined.\n",
    "3. Duplicated value in column Item_Fat_Content.\n",
    "4. Determine the operation years of stores from column Outlet_Establishment_Year.\n",
    "5. Because scikit-learn only accepts numeric variables, convert the categorical variables to numeric variables."
   ]
  },
  {
   "cell_type": "code",
   "execution_count": 15,
   "metadata": {},
   "outputs": [
    {
     "name": "stdout",
     "output_type": "stream",
     "text": [
      "zero value of Item_Visibility before impute:  879 \n",
      "\n",
      "\n",
      "zero value of Item_Visibility after impute:  0 \n",
      "\n",
      "\n"
     ]
    }
   ],
   "source": [
    "#impute these Item_Visibility which are 0 with mean of Item_Visibility group by Item_Identifier\n",
    "print('zero value of Item_Visibility before impute: ', sum(concat_data['Item_Visibility'] == 0), '\\n\\n')\n",
    "mean_visibility_by_item_ID = concat_data.pivot_table\\\n",
    "                             (index='Item_Identifier', values='Item_Visibility')\n",
    "missing_item_vb = (concat_data['Item_Visibility'] == 0.0)\n",
    "\n",
    "concat_data.loc[missing_item_vb, 'Item_Visibility'] = concat_data.loc[missing_item_vb, 'Item_Identifier'].apply\\\n",
    "                                                      (lambda x: mean_visibility_by_item_ID.loc[x,'Item_Visibility'])\n",
    "print('zero value of Item_Visibility after impute: ', sum(concat_data['Item_Visibility'] == 0), '\\n\\n')"
   ]
  },
  {
   "cell_type": "code",
   "execution_count": 16,
   "metadata": {},
   "outputs": [
    {
     "name": "stdout",
     "output_type": "stream",
     "text": [
      "Frequency table of Item_Type_Combined: \n",
      " Food              10201\n",
      "Non-comsumable     2686\n",
      "Drinks             1317\n",
      "Name: Item_Type_Combined, dtype: int64 \n",
      "\n",
      "\n"
     ]
    }
   ],
   "source": [
    "#combine the categories, and create a new column Item_Type_Combined to store it\n",
    "concat_data['Item_Type_Combined'] = concat_data['Item_Identifier'].apply(lambda x: x[0:2])\n",
    "concat_data['Item_Type_Combined'] = concat_data['Item_Type_Combined'].map({'FD':'Food', 'NC':'Non-comsumable', 'DR':'Drinks'})\n",
    "print('Frequency table of Item_Type_Combined: \\n', concat_data['Item_Type_Combined'].value_counts(), '\\n\\n')"
   ]
  },
  {
   "cell_type": "code",
   "execution_count": 17,
   "metadata": {},
   "outputs": [
    {
     "name": "stdout",
     "output_type": "stream",
     "text": [
      "Frequency table Item_Fat_Content: \n",
      " Low Fat    9185\n",
      "Regular    5019\n",
      "Name: Item_Fat_Content, dtype: int64 \n",
      "\n",
      "\n",
      "Frequency table Item_Fat_Content: \n",
      " Low Fat       6499\n",
      "Regular       5019\n",
      "Non-Edible    2686\n",
      "Name: Item_Fat_Content, dtype: int64 \n",
      "\n",
      "\n"
     ]
    }
   ],
   "source": [
    "#Modify categories of Item_Fat_Content\n",
    "concat_data['Item_Fat_Content'] = concat_data['Item_Fat_Content'].replace({'LF':'Low Fat', 'low fat':'Low Fat', 'reg':'Regular'})\n",
    "print('Frequency table Item_Fat_Content: \\n', concat_data['Item_Fat_Content'].value_counts(), '\\n\\n')\n",
    "#Non-comsumable item should not have fat content, modify it as Non-Edible\n",
    "concat_data.loc[concat_data['Item_Type_Combined'] == 'Non-comsumable', 'Item_Fat_Content'] = 'Non-Edible'\n",
    "print('Frequency table Item_Fat_Content: \\n', concat_data['Item_Fat_Content'].value_counts(), '\\n\\n')"
   ]
  },
  {
   "cell_type": "code",
   "execution_count": 18,
   "metadata": {},
   "outputs": [
    {
     "name": "stdout",
     "output_type": "stream",
     "text": [
      "Summary of Operation_Years count    14204.000000\n",
      "mean        15.169319\n",
      "std          8.371664\n",
      "min          4.000000\n",
      "25%          9.000000\n",
      "50%         14.000000\n",
      "75%         26.000000\n",
      "max         28.000000\n",
      "Name: Operation_Years, dtype: float64 \n",
      "\n",
      "\n"
     ]
    }
   ],
   "source": [
    "#determine the years of operation of stores \n",
    "concat_data['Operation_Years'] = concat_data['Outlet_Establishment_Year'].apply(lambda x: 2013-x)\n",
    "print('Summary of Operation_Years', concat_data['Operation_Years'].describe(), '\\n\\n')"
   ]
  },
  {
   "cell_type": "code",
   "execution_count": 19,
   "metadata": {},
   "outputs": [
    {
     "name": "stdout",
     "output_type": "stream",
     "text": [
      "Before transform: \n",
      " Low Fat       6499\n",
      "Regular       5019\n",
      "Non-Edible    2686\n",
      "Name: Item_Fat_Content, dtype: int64 \n",
      "\n",
      "\n",
      "After transform: \n",
      " 0    6499\n",
      "2    5019\n",
      "1    2686\n",
      "Name: Item_Fat_Content, dtype: int64 \n",
      "\n",
      "\n",
      "Before transform: \n",
      " Small     7996\n",
      "Medium    4655\n",
      "High      1553\n",
      "Name: Outlet_Size, dtype: int64 \n",
      "\n",
      "\n",
      "After transform: \n",
      " 2    7996\n",
      "1    4655\n",
      "0    1553\n",
      "Name: Outlet_Size, dtype: int64 \n",
      "\n",
      "\n",
      "Before transform: \n",
      " Tier 3    5583\n",
      "Tier 2    4641\n",
      "Tier 1    3980\n",
      "Name: Outlet_Location_Type, dtype: int64 \n",
      "\n",
      "\n",
      "After transform: \n",
      " 2    5583\n",
      "1    4641\n",
      "0    3980\n",
      "Name: Outlet_Location_Type, dtype: int64 \n",
      "\n",
      "\n",
      "Before transform: \n",
      " Supermarket Type1    9294\n",
      "Grocery Store        1805\n",
      "Supermarket Type3    1559\n",
      "Supermarket Type2    1546\n",
      "Name: Outlet_Type, dtype: int64 \n",
      "\n",
      "\n",
      "After transform: \n",
      " 1    9294\n",
      "0    1805\n",
      "3    1559\n",
      "2    1546\n",
      "Name: Outlet_Type, dtype: int64 \n",
      "\n",
      "\n",
      "Before transform: \n",
      " Food              10201\n",
      "Non-comsumable     2686\n",
      "Drinks             1317\n",
      "Name: Item_Type_Combined, dtype: int64 \n",
      "\n",
      "\n",
      "After transform: \n",
      " 1    10201\n",
      "2     2686\n",
      "0     1317\n",
      "Name: Item_Type_Combined, dtype: int64 \n",
      "\n",
      "\n",
      "Item_Identifier               object\n",
      "Item_MRP                     float64\n",
      "Item_Outlet_Sales            float64\n",
      "Item_Type                     object\n",
      "Item_Visibility              float64\n",
      "Item_Weight                  float64\n",
      "Outlet_Establishment_Year      int64\n",
      "Outlet_Identifier             object\n",
      "source                        object\n",
      "Operation_Years                int64\n",
      "Item_Fat_Content_0             int16\n",
      "Item_Fat_Content_1             int16\n",
      "Item_Fat_Content_2             int16\n",
      "Outlet_Size_0                  int16\n",
      "Outlet_Size_1                  int16\n",
      "Outlet_Size_2                  int16\n",
      "Outlet_Location_Type_0         int16\n",
      "Outlet_Location_Type_1         int16\n",
      "Outlet_Location_Type_2         int16\n",
      "Outlet_Type_0                  int16\n",
      "Outlet_Type_1                  int16\n",
      "Outlet_Type_2                  int16\n",
      "Outlet_Type_3                  int16\n",
      "Item_Type_Combined_0           int16\n",
      "Item_Type_Combined_1           int16\n",
      "Item_Type_Combined_2           int16\n",
      "Outlet_0                       int16\n",
      "Outlet_1                       int16\n",
      "Outlet_2                       int16\n",
      "Outlet_3                       int16\n",
      "Outlet_4                       int16\n",
      "Outlet_5                       int16\n",
      "Outlet_6                       int16\n",
      "Outlet_7                       int16\n",
      "Outlet_8                       int16\n",
      "Outlet_9                       int16\n",
      "dtype: object \n",
      "\n",
      "\n",
      "After one-hot-encode, Item_Fat_Content: \n",
      "    Item_Fat_Content_0  Item_Fat_Content_1  Item_Fat_Content_2\n",
      "0                   1                   0                   0\n",
      "1                   0                   0                   1\n",
      "2                   1                   0                   0\n",
      "3                   0                   0                   1\n",
      "4                   0                   1                   0 \n",
      "\n",
      "\n"
     ]
    }
   ],
   "source": [
    "#Because scikit-learn only accepts numeric variables, convert the nominal variable to numeric variable\n",
    "from sklearn.preprocessing import LabelEncoder\n",
    "le = LabelEncoder()\n",
    "#create numeric version of column 'Outlet_Identifier', column 'Outlet' \n",
    "concat_data['Outlet'] = le.fit_transform(concat_data['Outlet_Identifier'])\n",
    "\n",
    "#convert these catgorical columns to be numerical  \n",
    "nominal_var_list = ['Item_Fat_Content', 'Outlet_Size', 'Outlet_Location_Type', 'Outlet_Type', 'Item_Type_Combined']\n",
    "\n",
    "for i in nominal_var_list:\n",
    "    print('Before transform: \\n', concat_data[i].value_counts(),'\\n\\n')\n",
    "    concat_data[i] = le.fit_transform(concat_data[i])\n",
    "    print('After transform: \\n', concat_data[i].value_counts(), '\\n\\n')\n",
    "\n",
    "#use numerical columns to create one-hot-code data\n",
    "concat_data = pd.get_dummies(concat_data, columns=['Item_Fat_Content', 'Outlet_Size', 'Outlet_Location_Type',\\\n",
    "                                                   'Outlet_Type', 'Item_Type_Combined', 'Outlet'], dtype='int16')\n",
    "print(concat_data.dtypes, '\\n\\n')\n",
    "print(\"After one-hot-encode, Item_Fat_Content: \\n\", \\\n",
    "      concat_data[['Item_Fat_Content_0', 'Item_Fat_Content_1', 'Item_Fat_Content_2']].head(), '\\n\\n')"
   ]
  },
  {
   "cell_type": "code",
   "execution_count": 20,
   "metadata": {},
   "outputs": [],
   "source": [
    "#drop useless columns\n",
    "concat_data.drop(['Item_Type', 'Outlet_Establishment_Year'], axis=1, inplace=True)\n",
    "\n",
    "#split data set back to train-set and test-set\n",
    "train = concat_data.loc[concat_data['source'] == 'train', :].copy()\n",
    "test = concat_data.loc[concat_data['source'] == 'test', :].copy()\n",
    "\n",
    "train.drop(['source'], axis=1, inplace=True)\n",
    "test.drop(['source', 'Item_Outlet_Sales'], axis=1, inplace=True)"
   ]
  },
  {
   "cell_type": "code",
   "execution_count": 21,
   "metadata": {},
   "outputs": [
    {
     "data": {
      "text/html": [
       "<div>\n",
       "<style scoped>\n",
       "    .dataframe tbody tr th:only-of-type {\n",
       "        vertical-align: middle;\n",
       "    }\n",
       "\n",
       "    .dataframe tbody tr th {\n",
       "        vertical-align: top;\n",
       "    }\n",
       "\n",
       "    .dataframe thead th {\n",
       "        text-align: right;\n",
       "    }\n",
       "</style>\n",
       "<table border=\"1\" class=\"dataframe\">\n",
       "  <thead>\n",
       "    <tr style=\"text-align: right;\">\n",
       "      <th></th>\n",
       "      <th>Item_Identifier</th>\n",
       "      <th>Item_MRP</th>\n",
       "      <th>Item_Outlet_Sales</th>\n",
       "      <th>Item_Visibility</th>\n",
       "      <th>Item_Weight</th>\n",
       "      <th>Outlet_Identifier</th>\n",
       "      <th>Operation_Years</th>\n",
       "      <th>Item_Fat_Content_0</th>\n",
       "      <th>Item_Fat_Content_1</th>\n",
       "      <th>Item_Fat_Content_2</th>\n",
       "      <th>...</th>\n",
       "      <th>Outlet_0</th>\n",
       "      <th>Outlet_1</th>\n",
       "      <th>Outlet_2</th>\n",
       "      <th>Outlet_3</th>\n",
       "      <th>Outlet_4</th>\n",
       "      <th>Outlet_5</th>\n",
       "      <th>Outlet_6</th>\n",
       "      <th>Outlet_7</th>\n",
       "      <th>Outlet_8</th>\n",
       "      <th>Outlet_9</th>\n",
       "    </tr>\n",
       "  </thead>\n",
       "  <tbody>\n",
       "    <tr>\n",
       "      <th>0</th>\n",
       "      <td>FDA15</td>\n",
       "      <td>249.8092</td>\n",
       "      <td>3735.1380</td>\n",
       "      <td>0.016047</td>\n",
       "      <td>9.30</td>\n",
       "      <td>OUT049</td>\n",
       "      <td>14</td>\n",
       "      <td>1</td>\n",
       "      <td>0</td>\n",
       "      <td>0</td>\n",
       "      <td>...</td>\n",
       "      <td>0</td>\n",
       "      <td>0</td>\n",
       "      <td>0</td>\n",
       "      <td>0</td>\n",
       "      <td>0</td>\n",
       "      <td>0</td>\n",
       "      <td>0</td>\n",
       "      <td>0</td>\n",
       "      <td>0</td>\n",
       "      <td>1</td>\n",
       "    </tr>\n",
       "    <tr>\n",
       "      <th>1</th>\n",
       "      <td>DRC01</td>\n",
       "      <td>48.2692</td>\n",
       "      <td>443.4228</td>\n",
       "      <td>0.019278</td>\n",
       "      <td>5.92</td>\n",
       "      <td>OUT018</td>\n",
       "      <td>4</td>\n",
       "      <td>0</td>\n",
       "      <td>0</td>\n",
       "      <td>1</td>\n",
       "      <td>...</td>\n",
       "      <td>0</td>\n",
       "      <td>0</td>\n",
       "      <td>0</td>\n",
       "      <td>1</td>\n",
       "      <td>0</td>\n",
       "      <td>0</td>\n",
       "      <td>0</td>\n",
       "      <td>0</td>\n",
       "      <td>0</td>\n",
       "      <td>0</td>\n",
       "    </tr>\n",
       "    <tr>\n",
       "      <th>2</th>\n",
       "      <td>FDN15</td>\n",
       "      <td>141.6180</td>\n",
       "      <td>2097.2700</td>\n",
       "      <td>0.016760</td>\n",
       "      <td>17.50</td>\n",
       "      <td>OUT049</td>\n",
       "      <td>14</td>\n",
       "      <td>1</td>\n",
       "      <td>0</td>\n",
       "      <td>0</td>\n",
       "      <td>...</td>\n",
       "      <td>0</td>\n",
       "      <td>0</td>\n",
       "      <td>0</td>\n",
       "      <td>0</td>\n",
       "      <td>0</td>\n",
       "      <td>0</td>\n",
       "      <td>0</td>\n",
       "      <td>0</td>\n",
       "      <td>0</td>\n",
       "      <td>1</td>\n",
       "    </tr>\n",
       "    <tr>\n",
       "      <th>3</th>\n",
       "      <td>FDX07</td>\n",
       "      <td>182.0950</td>\n",
       "      <td>732.3800</td>\n",
       "      <td>0.017834</td>\n",
       "      <td>19.20</td>\n",
       "      <td>OUT010</td>\n",
       "      <td>15</td>\n",
       "      <td>0</td>\n",
       "      <td>0</td>\n",
       "      <td>1</td>\n",
       "      <td>...</td>\n",
       "      <td>1</td>\n",
       "      <td>0</td>\n",
       "      <td>0</td>\n",
       "      <td>0</td>\n",
       "      <td>0</td>\n",
       "      <td>0</td>\n",
       "      <td>0</td>\n",
       "      <td>0</td>\n",
       "      <td>0</td>\n",
       "      <td>0</td>\n",
       "    </tr>\n",
       "    <tr>\n",
       "      <th>4</th>\n",
       "      <td>NCD19</td>\n",
       "      <td>53.8614</td>\n",
       "      <td>994.7052</td>\n",
       "      <td>0.009780</td>\n",
       "      <td>8.93</td>\n",
       "      <td>OUT013</td>\n",
       "      <td>26</td>\n",
       "      <td>0</td>\n",
       "      <td>1</td>\n",
       "      <td>0</td>\n",
       "      <td>...</td>\n",
       "      <td>0</td>\n",
       "      <td>1</td>\n",
       "      <td>0</td>\n",
       "      <td>0</td>\n",
       "      <td>0</td>\n",
       "      <td>0</td>\n",
       "      <td>0</td>\n",
       "      <td>0</td>\n",
       "      <td>0</td>\n",
       "      <td>0</td>\n",
       "    </tr>\n",
       "  </tbody>\n",
       "</table>\n",
       "<p>5 rows × 33 columns</p>\n",
       "</div>"
      ],
      "text/plain": [
       "  Item_Identifier  Item_MRP  Item_Outlet_Sales  Item_Visibility  Item_Weight  \\\n",
       "0           FDA15  249.8092          3735.1380         0.016047         9.30   \n",
       "1           DRC01   48.2692           443.4228         0.019278         5.92   \n",
       "2           FDN15  141.6180          2097.2700         0.016760        17.50   \n",
       "3           FDX07  182.0950           732.3800         0.017834        19.20   \n",
       "4           NCD19   53.8614           994.7052         0.009780         8.93   \n",
       "\n",
       "  Outlet_Identifier  Operation_Years  Item_Fat_Content_0  Item_Fat_Content_1  \\\n",
       "0            OUT049               14                   1                   0   \n",
       "1            OUT018                4                   0                   0   \n",
       "2            OUT049               14                   1                   0   \n",
       "3            OUT010               15                   0                   0   \n",
       "4            OUT013               26                   0                   1   \n",
       "\n",
       "   Item_Fat_Content_2  ...  Outlet_0  Outlet_1  Outlet_2  Outlet_3  Outlet_4  \\\n",
       "0                   0  ...         0         0         0         0         0   \n",
       "1                   1  ...         0         0         0         1         0   \n",
       "2                   0  ...         0         0         0         0         0   \n",
       "3                   1  ...         1         0         0         0         0   \n",
       "4                   0  ...         0         1         0         0         0   \n",
       "\n",
       "   Outlet_5  Outlet_6  Outlet_7  Outlet_8  Outlet_9  \n",
       "0         0         0         0         0         1  \n",
       "1         0         0         0         0         0  \n",
       "2         0         0         0         0         1  \n",
       "3         0         0         0         0         0  \n",
       "4         0         0         0         0         0  \n",
       "\n",
       "[5 rows x 33 columns]"
      ]
     },
     "execution_count": 21,
     "metadata": {},
     "output_type": "execute_result"
    }
   ],
   "source": [
    "train.head()"
   ]
  },
  {
   "cell_type": "code",
   "execution_count": 22,
   "metadata": {},
   "outputs": [
    {
     "data": {
      "text/html": [
       "<div>\n",
       "<style scoped>\n",
       "    .dataframe tbody tr th:only-of-type {\n",
       "        vertical-align: middle;\n",
       "    }\n",
       "\n",
       "    .dataframe tbody tr th {\n",
       "        vertical-align: top;\n",
       "    }\n",
       "\n",
       "    .dataframe thead th {\n",
       "        text-align: right;\n",
       "    }\n",
       "</style>\n",
       "<table border=\"1\" class=\"dataframe\">\n",
       "  <thead>\n",
       "    <tr style=\"text-align: right;\">\n",
       "      <th></th>\n",
       "      <th>Item_Identifier</th>\n",
       "      <th>Item_MRP</th>\n",
       "      <th>Item_Visibility</th>\n",
       "      <th>Item_Weight</th>\n",
       "      <th>Outlet_Identifier</th>\n",
       "      <th>Operation_Years</th>\n",
       "      <th>Item_Fat_Content_0</th>\n",
       "      <th>Item_Fat_Content_1</th>\n",
       "      <th>Item_Fat_Content_2</th>\n",
       "      <th>Outlet_Size_0</th>\n",
       "      <th>...</th>\n",
       "      <th>Outlet_0</th>\n",
       "      <th>Outlet_1</th>\n",
       "      <th>Outlet_2</th>\n",
       "      <th>Outlet_3</th>\n",
       "      <th>Outlet_4</th>\n",
       "      <th>Outlet_5</th>\n",
       "      <th>Outlet_6</th>\n",
       "      <th>Outlet_7</th>\n",
       "      <th>Outlet_8</th>\n",
       "      <th>Outlet_9</th>\n",
       "    </tr>\n",
       "  </thead>\n",
       "  <tbody>\n",
       "    <tr>\n",
       "      <th>8523</th>\n",
       "      <td>FDW58</td>\n",
       "      <td>107.8622</td>\n",
       "      <td>0.007565</td>\n",
       "      <td>20.750</td>\n",
       "      <td>OUT049</td>\n",
       "      <td>14</td>\n",
       "      <td>1</td>\n",
       "      <td>0</td>\n",
       "      <td>0</td>\n",
       "      <td>0</td>\n",
       "      <td>...</td>\n",
       "      <td>0</td>\n",
       "      <td>0</td>\n",
       "      <td>0</td>\n",
       "      <td>0</td>\n",
       "      <td>0</td>\n",
       "      <td>0</td>\n",
       "      <td>0</td>\n",
       "      <td>0</td>\n",
       "      <td>0</td>\n",
       "      <td>1</td>\n",
       "    </tr>\n",
       "    <tr>\n",
       "      <th>8524</th>\n",
       "      <td>FDW14</td>\n",
       "      <td>87.3198</td>\n",
       "      <td>0.038428</td>\n",
       "      <td>8.300</td>\n",
       "      <td>OUT017</td>\n",
       "      <td>6</td>\n",
       "      <td>0</td>\n",
       "      <td>0</td>\n",
       "      <td>1</td>\n",
       "      <td>0</td>\n",
       "      <td>...</td>\n",
       "      <td>0</td>\n",
       "      <td>0</td>\n",
       "      <td>1</td>\n",
       "      <td>0</td>\n",
       "      <td>0</td>\n",
       "      <td>0</td>\n",
       "      <td>0</td>\n",
       "      <td>0</td>\n",
       "      <td>0</td>\n",
       "      <td>0</td>\n",
       "    </tr>\n",
       "    <tr>\n",
       "      <th>8525</th>\n",
       "      <td>NCN55</td>\n",
       "      <td>241.7538</td>\n",
       "      <td>0.099575</td>\n",
       "      <td>14.600</td>\n",
       "      <td>OUT010</td>\n",
       "      <td>15</td>\n",
       "      <td>0</td>\n",
       "      <td>1</td>\n",
       "      <td>0</td>\n",
       "      <td>0</td>\n",
       "      <td>...</td>\n",
       "      <td>1</td>\n",
       "      <td>0</td>\n",
       "      <td>0</td>\n",
       "      <td>0</td>\n",
       "      <td>0</td>\n",
       "      <td>0</td>\n",
       "      <td>0</td>\n",
       "      <td>0</td>\n",
       "      <td>0</td>\n",
       "      <td>0</td>\n",
       "    </tr>\n",
       "    <tr>\n",
       "      <th>8526</th>\n",
       "      <td>FDQ58</td>\n",
       "      <td>155.0340</td>\n",
       "      <td>0.015388</td>\n",
       "      <td>7.315</td>\n",
       "      <td>OUT017</td>\n",
       "      <td>6</td>\n",
       "      <td>1</td>\n",
       "      <td>0</td>\n",
       "      <td>0</td>\n",
       "      <td>0</td>\n",
       "      <td>...</td>\n",
       "      <td>0</td>\n",
       "      <td>0</td>\n",
       "      <td>1</td>\n",
       "      <td>0</td>\n",
       "      <td>0</td>\n",
       "      <td>0</td>\n",
       "      <td>0</td>\n",
       "      <td>0</td>\n",
       "      <td>0</td>\n",
       "      <td>0</td>\n",
       "    </tr>\n",
       "    <tr>\n",
       "      <th>8527</th>\n",
       "      <td>FDY38</td>\n",
       "      <td>234.2300</td>\n",
       "      <td>0.118599</td>\n",
       "      <td>13.600</td>\n",
       "      <td>OUT027</td>\n",
       "      <td>28</td>\n",
       "      <td>0</td>\n",
       "      <td>0</td>\n",
       "      <td>1</td>\n",
       "      <td>0</td>\n",
       "      <td>...</td>\n",
       "      <td>0</td>\n",
       "      <td>0</td>\n",
       "      <td>0</td>\n",
       "      <td>0</td>\n",
       "      <td>0</td>\n",
       "      <td>1</td>\n",
       "      <td>0</td>\n",
       "      <td>0</td>\n",
       "      <td>0</td>\n",
       "      <td>0</td>\n",
       "    </tr>\n",
       "  </tbody>\n",
       "</table>\n",
       "<p>5 rows × 32 columns</p>\n",
       "</div>"
      ],
      "text/plain": [
       "     Item_Identifier  Item_MRP  Item_Visibility  Item_Weight  \\\n",
       "8523           FDW58  107.8622         0.007565       20.750   \n",
       "8524           FDW14   87.3198         0.038428        8.300   \n",
       "8525           NCN55  241.7538         0.099575       14.600   \n",
       "8526           FDQ58  155.0340         0.015388        7.315   \n",
       "8527           FDY38  234.2300         0.118599       13.600   \n",
       "\n",
       "     Outlet_Identifier  Operation_Years  Item_Fat_Content_0  \\\n",
       "8523            OUT049               14                   1   \n",
       "8524            OUT017                6                   0   \n",
       "8525            OUT010               15                   0   \n",
       "8526            OUT017                6                   1   \n",
       "8527            OUT027               28                   0   \n",
       "\n",
       "      Item_Fat_Content_1  Item_Fat_Content_2  Outlet_Size_0  ...  Outlet_0  \\\n",
       "8523                   0                   0              0  ...         0   \n",
       "8524                   0                   1              0  ...         0   \n",
       "8525                   1                   0              0  ...         1   \n",
       "8526                   0                   0              0  ...         0   \n",
       "8527                   0                   1              0  ...         0   \n",
       "\n",
       "      Outlet_1  Outlet_2  Outlet_3  Outlet_4  Outlet_5  Outlet_6  Outlet_7  \\\n",
       "8523         0         0         0         0         0         0         0   \n",
       "8524         0         1         0         0         0         0         0   \n",
       "8525         0         0         0         0         0         0         0   \n",
       "8526         0         1         0         0         0         0         0   \n",
       "8527         0         0         0         0         1         0         0   \n",
       "\n",
       "      Outlet_8  Outlet_9  \n",
       "8523         0         1  \n",
       "8524         0         0  \n",
       "8525         0         0  \n",
       "8526         0         0  \n",
       "8527         0         0  \n",
       "\n",
       "[5 rows x 32 columns]"
      ]
     },
     "execution_count": 22,
     "metadata": {},
     "output_type": "execute_result"
    }
   ],
   "source": [
    "test.head()"
   ]
  },
  {
   "cell_type": "code",
   "execution_count": 23,
   "metadata": {},
   "outputs": [],
   "source": [
    "#export data to excel file\n",
    "#train.to_excel('train_optimized.xlsx', index=False)\n",
    "#test.to_excel('test_optimized.xlsx', index=False)"
   ]
  },
  {
   "cell_type": "markdown",
   "metadata": {},
   "source": [
    "At the end of feature engineering, we already get our data prepared, we can use the clean data to build the pridiction model. "
   ]
  }
 ],
 "metadata": {
  "kernelspec": {
   "display_name": "Python 3",
   "language": "python",
   "name": "python3"
  },
  "language_info": {
   "codemirror_mode": {
    "name": "ipython",
    "version": 3
   },
   "file_extension": ".py",
   "mimetype": "text/x-python",
   "name": "python",
   "nbconvert_exporter": "python",
   "pygments_lexer": "ipython3",
   "version": "3.7.5"
  }
 },
 "nbformat": 4,
 "nbformat_minor": 4
}
